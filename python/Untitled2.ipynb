{
 "cells": [
  {
   "cell_type": "code",
   "execution_count": 39,
   "metadata": {
    "collapsed": false
   },
   "outputs": [
    {
     "name": "stdout",
     "output_type": "stream",
     "text": [
      "directly opposite solar point: [1.0, 25.765342686953428, 76.69495976369228]\n",
      "directly toward solar point: [1.0, -25.765342686953428, 256.6949597636922]\n",
      "midnight, gmt [1.0000000000000002, 53.249283260785326, 84.4045744128384]\n",
      "Greenwich, 12 utc: [1.0000000000000004, 53.24927403103903, 84.40451575148673]\n",
      "[1.0, 0.0, 256.6949597636922]\n"
     ]
    }
   ],
   "source": [
    "import xflib  # Fortran xform-double library (coordinate transforms)\n",
    "import datetime as dt\n",
    "import numpy as np\n",
    "\n",
    "\n",
    "xf = xflib.xflib(lib_path='/shared/users/asousa/WIPP/3dWIPP/python/libxformd.so')\n",
    "\n",
    "\n",
    "\n",
    "\n",
    "# Find geomagnetic lat, lon for noon and midnight:\n",
    "\n",
    "\n",
    "flashtime = dt.datetime(2001,1,1,0,0,0)\n",
    "# Get direction opposite to sun (GSE system - x axis points to sun)\n",
    "x_in = [-1, 0, 0]\n",
    "sun = xf.gse2sm(x_in, flashtime)\n",
    "sun_geomag_midnight = xf.sm2rllmag(sun, flashtime)\n",
    "print \"directly opposite solar point:\", sun_geomag_midnight\n",
    "\n",
    "x_in = [1, 0, 0]\n",
    "sun = xf.gse2sm(x_in, flashtime)\n",
    "sun_geomag_noon = xf.sm2rllmag(sun, flashtime)\n",
    "print \"directly toward solar point:\", sun_geomag_noon\n",
    "\n",
    "\n",
    "\n",
    "\n",
    "greenwich_geo = [1, 51, 0]  # geographic, GMT\n",
    "greenwich_sm = xf.rllgeo2sm(greenwich_geo, flashtime)\n",
    "greenwich_mag= xf.sm2rllmag(greenwich_sm, flashtime)\n",
    "print \"midnight, gmt\", greenwich_mag\n",
    "\n",
    "flashtime_noon = dt.datetime(2001,1,1,12,0,0)\n",
    "greenwich_sm_noon = xf.rllgeo2sm(greenwich_geo, flashtime_noon)\n",
    "greenwich_mag_noon = xf.sm2rllmag(greenwich_sm_noon, flashtime_noon)\n",
    "print \"Greenwich, 12 utc:\", greenwich_mag_noon\n",
    "\n",
    "\n",
    "\n",
    "# Which starting coords yield rays along the x axis in SM?\n",
    "\n",
    "x_sm = [1,0,0]\n",
    "starter = xf.sm2rllmag(x_sm, flashtime)\n",
    "print starter\n",
    "\n",
    "\n"
   ]
  },
  {
   "cell_type": "code",
   "execution_count": null,
   "metadata": {
    "collapsed": true
   },
   "outputs": [],
   "source": []
  }
 ],
 "metadata": {
  "kernelspec": {
   "display_name": "Python 2",
   "language": "python",
   "name": "python2"
  },
  "language_info": {
   "codemirror_mode": {
    "name": "ipython",
    "version": 2
   },
   "file_extension": ".py",
   "mimetype": "text/x-python",
   "name": "python",
   "nbconvert_exporter": "python",
   "pygments_lexer": "ipython2",
   "version": "2.7.11"
  }
 },
 "nbformat": 4,
 "nbformat_minor": 0
}
